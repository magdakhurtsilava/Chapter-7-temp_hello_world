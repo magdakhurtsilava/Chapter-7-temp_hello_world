{
  "nbformat": 4,
  "nbformat_minor": 0,
  "metadata": {
    "colab": {
      "name": "Untitled0.ipynb",
      "provenance": [],
      "authorship_tag": "ABX9TyPTHuWq1sHkwv47MiE/T1aE",
      "include_colab_link": true
    },
    "kernelspec": {
      "name": "python3",
      "display_name": "Python 3"
    },
    "language_info": {
      "name": "python"
    }
  },
  "cells": [
    {
      "cell_type": "markdown",
      "metadata": {
        "id": "view-in-github",
        "colab_type": "text"
      },
      "source": [
        "<a href=\"https://colab.research.google.com/github/magdakhurtsilava/temp_hello_world/blob/main/Untitled0.ipynb\" target=\"_parent\"><img src=\"https://colab.research.google.com/assets/colab-badge.svg\" alt=\"Open In Colab\"/></a>"
      ]
    },
    {
      "cell_type": "code",
      "metadata": {
        "id": "cLQFvDmkUnAB"
      },
      "source": [
        "alien_0 ={'color':'green' , 'points' : 5}"
      ],
      "execution_count": null,
      "outputs": []
    },
    {
      "cell_type": "code",
      "metadata": {
        "colab": {
          "base_uri": "https://localhost:8080/"
        },
        "id": "4XuDVxVaV5lN",
        "outputId": "a86705fc-244a-40f3-95a2-1653c47dac7d"
      },
      "source": [
        "alien_0"
      ],
      "execution_count": null,
      "outputs": [
        {
          "output_type": "execute_result",
          "data": {
            "text/plain": [
              "{'color': 'green', 'points': 5}"
            ]
          },
          "metadata": {},
          "execution_count": 2
        }
      ]
    },
    {
      "cell_type": "code",
      "metadata": {
        "id": "ZixkHaYhWGs3"
      },
      "source": [
        ""
      ],
      "execution_count": null,
      "outputs": []
    },
    {
      "cell_type": "code",
      "metadata": {
        "colab": {
          "base_uri": "https://localhost:8080/"
        },
        "id": "aA-wlmI4WWRO",
        "outputId": "a4cb41ea-aad7-4933-f9b9-66974f287979"
      },
      "source": [
        "alien_0 ={'color':'green' , 'points' : 5}\n",
        "\n",
        "print(alien_0['color'])\n",
        "print(alien_0['points'])"
      ],
      "execution_count": null,
      "outputs": [
        {
          "output_type": "stream",
          "name": "stdout",
          "text": [
            "green\n",
            "5\n"
          ]
        }
      ]
    },
    {
      "cell_type": "code",
      "metadata": {
        "colab": {
          "base_uri": "https://localhost:8080/"
        },
        "id": "kQxImZ26Wf0U",
        "outputId": "6f7bc627-02c4-449a-a700-5b8f499e000b"
      },
      "source": [
        "alien_0 = {'color' : 'green'}\n",
        "\n",
        "\n",
        "alien_color = alien_0.get('color')\n",
        "alien_points = alien_0.get('points' , 10)\n",
        "alien_0"
      ],
      "execution_count": null,
      "outputs": [
        {
          "output_type": "execute_result",
          "data": {
            "text/plain": [
              "{'color': 'green'}"
            ]
          },
          "metadata": {},
          "execution_count": 13
        }
      ]
    },
    {
      "cell_type": "code",
      "metadata": {
        "id": "vlYr47avX88-"
      },
      "source": [
        ""
      ],
      "execution_count": null,
      "outputs": []
    },
    {
      "cell_type": "code",
      "metadata": {
        "colab": {
          "base_uri": "https://localhost:8080/"
        },
        "id": "yTrQxYn4aIYD",
        "outputId": "5c8a467c-02d9-46ec-f29e-4a890b135e09"
      },
      "source": [
        "alien_0 ={'color':'green' , 'points' : 5}\n",
        "print(alien_0)\n",
        "\n",
        "alien_0['x'] = 0\n",
        "alien_0['y'] = 25\n",
        "print(alien_0)"
      ],
      "execution_count": null,
      "outputs": [
        {
          "output_type": "stream",
          "name": "stdout",
          "text": [
            "{'color': 'green', 'points': 5}\n",
            "{'color': 'green', 'points': 5, 'x': 0, 'y': 25}\n"
          ]
        }
      ]
    },
    {
      "cell_type": "code",
      "metadata": {
        "colab": {
          "base_uri": "https://localhost:8080/"
        },
        "id": "MJdoMse6aRN9",
        "outputId": "25f6af93-d2b4-455e-8e83-0405d39c2295"
      },
      "source": [
        "alien_0 = {}\n",
        "type(alien_0)\n"
      ],
      "execution_count": null,
      "outputs": [
        {
          "output_type": "execute_result",
          "data": {
            "text/plain": [
              "dict"
            ]
          },
          "metadata": {},
          "execution_count": 17
        }
      ]
    },
    {
      "cell_type": "code",
      "metadata": {
        "colab": {
          "base_uri": "https://localhost:8080/"
        },
        "id": "C9jgxyflbRW-",
        "outputId": "9ccef1ed-acf0-464a-dd09-4692ea1232e8"
      },
      "source": [
        "alien_0 ={}\n",
        "alien_0 ['color'] = 'green'\n",
        "alien_0['points'] = 5 \n",
        "alien_0"
      ],
      "execution_count": null,
      "outputs": [
        {
          "output_type": "execute_result",
          "data": {
            "text/plain": [
              "{'color': 'green', 'points': 5}"
            ]
          },
          "metadata": {},
          "execution_count": 20
        }
      ]
    },
    {
      "cell_type": "code",
      "metadata": {
        "id": "IozexPT2cSxD"
      },
      "source": [
        ""
      ],
      "execution_count": null,
      "outputs": []
    },
    {
      "cell_type": "code",
      "metadata": {
        "colab": {
          "base_uri": "https://localhost:8080/"
        },
        "id": "3qBMwk_ed4VO",
        "outputId": "b6114ceb-4107-4503-c026-9715e70069ac"
      },
      "source": [
        "alien_0 ={'color':'green' , 'points' : 5}\n",
        "print(alien_0)\n",
        "\n",
        "alien_0['color'] ='yello'\n",
        "alien_0['points'] = 10 \n",
        "print(alien_0)"
      ],
      "execution_count": null,
      "outputs": [
        {
          "output_type": "stream",
          "name": "stdout",
          "text": [
            "{'color': 'green', 'points': 5}\n",
            "{'color': 'yello', 'points': 10}\n"
          ]
        }
      ]
    },
    {
      "cell_type": "code",
      "metadata": {
        "id": "o5YQhPDwd-8v"
      },
      "source": [
        ""
      ],
      "execution_count": null,
      "outputs": []
    },
    {
      "cell_type": "code",
      "metadata": {
        "colab": {
          "base_uri": "https://localhost:8080/"
        },
        "id": "PmVvP8kcehxt",
        "outputId": "d48d45db-dfa7-406b-edcb-b02b299a8b47"
      },
      "source": [
        "alien_0 ={'color':'green' , 'points' : 5}\n",
        "print(alien_0)\n",
        "\n",
        "del alien_0['points']\n",
        "print(alien_0)"
      ],
      "execution_count": null,
      "outputs": [
        {
          "output_type": "stream",
          "name": "stdout",
          "text": [
            "{'color': 'green', 'points': 5}\n",
            "{'color': 'green'}\n"
          ]
        }
      ]
    },
    {
      "cell_type": "code",
      "metadata": {
        "colab": {
          "base_uri": "https://localhost:8080/"
        },
        "id": "3sar6FbSfAPq",
        "outputId": "7bddd384-bbfa-473c-a2be-22c0cae61d4f"
      },
      "source": [
        "names = ['alice' , 'bob' , 'david']\n",
        "for name in names:\n",
        "  print(name)"
      ],
      "execution_count": null,
      "outputs": [
        {
          "output_type": "stream",
          "name": "stdout",
          "text": [
            "alice\n",
            "bob\n",
            "david\n"
          ]
        }
      ]
    },
    {
      "cell_type": "code",
      "metadata": {
        "colab": {
          "base_uri": "https://localhost:8080/"
        },
        "id": "10aNTj_BfhJI",
        "outputId": "561d5b6d-a694-4b81-f177-fed1e32d6f49"
      },
      "source": [
        "fav_languages = {\n",
        "    'jen' : 'python' ,\n",
        "    'sara' : 'c' ,\n",
        "    'edward' : 'ruby' , \n",
        "    'phil' : 'python'\n",
        "  \n",
        "}\n",
        "for name , languages in fav_languages.items():\n",
        "  print(name + ':' + languages)"
      ],
      "execution_count": null,
      "outputs": [
        {
          "output_type": "stream",
          "name": "stdout",
          "text": [
            "jen:python\n",
            "sara:c\n",
            "edward:ruby\n",
            "phil:python\n"
          ]
        }
      ]
    },
    {
      "cell_type": "code",
      "metadata": {
        "id": "Aj7W_K7xgewr"
      },
      "source": [
        ""
      ],
      "execution_count": null,
      "outputs": []
    },
    {
      "cell_type": "code",
      "metadata": {
        "colab": {
          "base_uri": "https://localhost:8080/"
        },
        "id": "7BzG0tFYj6Ql",
        "outputId": "8e56a4f8-de98-45b1-e670-bec65fc309e9"
      },
      "source": [
        "fav_languages = {\n",
        "    'jen' : 'python' ,\n",
        "    'sara' : 'c' ,\n",
        "    'edward' : 'ruby' , \n",
        "    'phil' : 'python'\n",
        "  \n",
        "}\n",
        "for name in fav_languages.keys():\n",
        "  print(name)"
      ],
      "execution_count": null,
      "outputs": [
        {
          "output_type": "stream",
          "name": "stdout",
          "text": [
            "jen\n",
            "sara\n",
            "edward\n",
            "phil\n"
          ]
        }
      ]
    },
    {
      "cell_type": "code",
      "metadata": {
        "colab": {
          "base_uri": "https://localhost:8080/"
        },
        "id": "U6xWa6rak0GO",
        "outputId": "64da9fd8-7606-4912-f811-9d1861ce740a"
      },
      "source": [
        "fav_languages = {\n",
        "    'jen' : 'python' ,\n",
        "    'sara' : 'c' ,\n",
        "    'edward' : 'ruby' , \n",
        "    'phil' : 'python'\n",
        "  \n",
        "}\n",
        "for language in fav_languages.values():\n",
        "  print(language)"
      ],
      "execution_count": null,
      "outputs": [
        {
          "output_type": "stream",
          "name": "stdout",
          "text": [
            "python\n",
            "c\n",
            "ruby\n",
            "python\n"
          ]
        }
      ]
    },
    {
      "cell_type": "code",
      "metadata": {
        "id": "9ByTqFXxlHJT",
        "colab": {
          "base_uri": "https://localhost:8080/"
        },
        "outputId": "a85c4581-4072-4ba5-92ac-4296c4ce4898"
      },
      "source": [
        "users = []\n",
        "print(users)\n",
        "new_user ={\n",
        "    'last_name' : 'fermi',\n",
        "    'first_name' : 'enrico' ,\n",
        "    'username' : 'efermi' , \n",
        "\n",
        "}\n",
        "users.append(new_user)\n",
        "print(users)"
      ],
      "execution_count": 47,
      "outputs": [
        {
          "output_type": "stream",
          "name": "stdout",
          "text": [
            "[]\n",
            "[{'last_name': 'fermi', 'first_name': 'enrico', 'username': 'efermi'}]\n"
          ]
        }
      ]
    },
    {
      "cell_type": "code",
      "metadata": {
        "id": "nXyBdpPFmtWK"
      },
      "source": [
        "|"
      ],
      "execution_count": null,
      "outputs": []
    }
  ]
}